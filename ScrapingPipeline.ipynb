{
 "cells": [
  {
   "cell_type": "markdown",
   "id": "76f58ab1",
   "metadata": {},
   "source": [
    "Last Updated: 2022/11/17\n",
    "\n",
    "By: Becky Yu"
   ]
  },
  {
   "cell_type": "markdown",
   "id": "e12d5b0a",
   "metadata": {},
   "source": [
    "# Install and Import Packages"
   ]
  },
  {
   "cell_type": "markdown",
   "id": "8d4fd31f",
   "metadata": {},
   "source": [
    "Uncomment and run the cell below to install packages"
   ]
  },
  {
   "cell_type": "code",
   "execution_count": 7,
   "id": "93208556",
   "metadata": {},
   "outputs": [],
   "source": [
    "# !pip install webdriver_manager"
   ]
  },
  {
   "cell_type": "code",
   "execution_count": 8,
   "id": "e31bec1c",
   "metadata": {},
   "outputs": [],
   "source": [
    "import requests\n",
    "import pandas as pd\n",
    "import csv\n",
    "import time\n",
    "\n",
    "from cmath import e\n",
    "\n",
    "from bs4 import BeautifulSoup\n",
    "\n",
    "from selenium import webdriver\n",
    "from selenium.webdriver.common.keys import Keys\n",
    "from selenium.webdriver.common.by import By\n",
    "from webdriver_manager.chrome import ChromeDriverManager"
   ]
  },
  {
   "cell_type": "markdown",
   "id": "757b5fb5",
   "metadata": {},
   "source": [
    "# Obtain Data From Sources"
   ]
  },
  {
   "cell_type": "markdown",
   "id": "0ca9f4f7",
   "metadata": {},
   "source": [
    "### 1. Wikipedia (Functions)"
   ]
  },
  {
   "cell_type": "code",
   "execution_count": 11,
   "id": "e222563a",
   "metadata": {},
   "outputs": [],
   "source": [
    "'''\n",
    "Function to get wikipedia link from google.\n",
    "'''\n",
    "def get_wiki_link_from_google(chem_name):\n",
    "    keyword = chem_name\n",
    "    options = webdriver.ChromeOptions()\n",
    "    options.add_argument('--headless')\n",
    "\n",
    "    driver = webdriver.Chrome(ChromeDriverManager().install(),options=options)\n",
    "    driver.get('https://www.google.com/')\n",
    "\n",
    "    search_query = driver.find_element('name','q')\n",
    "    search_query.send_keys(keyword + ' wikipedia')\n",
    "    search_query.send_keys(Keys.RETURN)\n",
    "\n",
    "    google_search_list = driver.find_element('id','search').text.split(\"\\n\")\n",
    "\n",
    "    wiki_link = \"\"\n",
    "    for i,line in enumerate(google_search_list):\n",
    "        if 'Wikipedia' in line:\n",
    "            wiki_link = google_search_list[i+1]\n",
    "            break\n",
    "    final_wiki_link = wiki_link.replace(\" › \",\"/\")\n",
    "    return final_wiki_link"
   ]
  },
  {
   "cell_type": "code",
   "execution_count": 12,
   "id": "6bd1dbeb",
   "metadata": {},
   "outputs": [],
   "source": [
    "'''\n",
    "Function to get one property from wikipedia from a given chemical name.\n",
    "'''\n",
    "def get_property(chemical):\n",
    "    try:\n",
    "        refined_chem_name = chemical.split()[0].capitalize() + \"_\".join([x for x in chemical.split()[1:]])\n",
    "        try:\n",
    "            df_pandas = pd.read_html(\"https://en.wikipedia.org/wiki/\" + refined_chem_name, attrs = {'class': 'infobox ib-chembox'},  flavor='bs4', thousands ='.')\n",
    "        except:\n",
    "            link = get_wiki_link_from_google(chemical)\n",
    "            df_pandas = pd.read_html(link, attrs = {'class': 'infobox ib-chembox'},  flavor='bs4', thousands ='.')\n",
    "            \n",
    "        all_df = pd.DataFrame(df_pandas[0])\n",
    "        property_index = all_df[all_df[0] == 'Properties'].index[0]\n",
    "        property_df = all_df.loc[property_index:]\n",
    "        property_dict = dict(zip(property_df[0],property_df[1]))\n",
    "        property_dict['Chemical Name'] = chemical\n",
    "    except:\n",
    "        property_dict = {'Chemical Name':chemical}\n",
    "        \n",
    "    return property_dict"
   ]
  },
  {
   "cell_type": "code",
   "execution_count": 13,
   "id": "03171d0b",
   "metadata": {},
   "outputs": [],
   "source": [
    "'''\n",
    "Function to get all properties from wikipedia from an input df with column 'Chemical Name'\n",
    "'''\n",
    "def get_properties(ingredients_df):\n",
    "    all_chem_property_dicts = []\n",
    "    for chemical in ingredients_df['Chemical Name']:\n",
    "        property_dict = get_property(chemical)\n",
    "        all_chem_property_dicts.append(property_dict)\n",
    "    final_df = pd.DataFrame(all_chem_property_dicts)\n",
    "    return final_df"
   ]
  },
  {
   "cell_type": "code",
   "execution_count": 14,
   "id": "67206dbf",
   "metadata": {},
   "outputs": [],
   "source": [
    "'''\n",
    "Function to get functionality from wikipedia from a given chemical name.\n",
    "'''\n",
    "def get_functionality(chemical,func_df):\n",
    "    try:\n",
    "        refined_chem_name = chemical.split()[0].capitalize() + \"_\".join([x for x in chemical.split()[1:]])\n",
    "        response = requests.get(url=\"https://en.wikipedia.org/wiki/\" + refined_chem_name)\n",
    "        if response.status_code!=200:\n",
    "            link = get_wiki_link_from_google(chemical)\n",
    "            response = requests.get(url=link)\n",
    "        soup = BeautifulSoup(response.content, 'html.parser')\n",
    "        span = soup.find('span', {'id': 'Uses'})\n",
    "        results = span.parent.find_next_siblings('p')\n",
    "        \n",
    "        result_subheadings_text = span.parent.find_next_siblings('p')\n",
    "        all_uses_text = [x.text for x in results+result_subheadings_text]\n",
    "        uses_text = \" \".join(all_uses_text)\n",
    "        all_funcs = []\n",
    "        for func in func_df['Functionality']:\n",
    "            if func in uses_text.lower():\n",
    "                all_funcs.append(func)\n",
    "        return all_funcs\n",
    "    except:\n",
    "        return []"
   ]
  },
  {
   "cell_type": "code",
   "execution_count": 15,
   "id": "235c8120",
   "metadata": {},
   "outputs": [],
   "source": [
    "'''\n",
    "Function to get all functionalities from wikipedia from an input df with column 'Chemical Name'\n",
    "'''\n",
    "def get_functionalities(ingredients_df,functionality_file_name):\n",
    "    all_chem_func_dict = {}\n",
    "    func_df = pd.read_csv(functionality_file_name)\n",
    "    for chemical in ingredients_df['Chemical Name']:\n",
    "        all_chem_func_dict[chemical] = get_functionality(chemical,func_df)\n",
    "    final_func_df = pd.DataFrame(all_chem_func_dict)\n",
    "    return final_func_df"
   ]
  },
  {
   "cell_type": "markdown",
   "id": "ed5b96ae",
   "metadata": {},
   "source": [
    "## 2. PubChem (Functions)"
   ]
  },
  {
   "cell_type": "markdown",
   "id": "3cfe4ce4",
   "metadata": {},
   "source": [
    "## 3. ChemBK (Functions)"
   ]
  },
  {
   "cell_type": "code",
   "execution_count": null,
   "id": "d1e1e996",
   "metadata": {},
   "outputs": [],
   "source": [
    "# Setup Selenium web driver\n",
    "\n",
    "def setupDriver():\n",
    "    driver = webdriver.Chrome(service=Service(ChromeDriverManager().install()))\n",
    "    driver.get(\"https://www.chembk.com/en\")\n",
    "    return driver"
   ]
  },
  {
   "cell_type": "code",
   "execution_count": null,
   "id": "cb208671",
   "metadata": {},
   "outputs": [],
   "source": [
    "# Enter searchbox\n",
    "\n",
    "def search(index, driver):\n",
    "    # The first one searched from home page, the rest searched from result page\n",
    "    if index == 0:\n",
    "        searchBox = driver.find_element(By.ID, \"chem\")\n",
    "    else:\n",
    "        driver.find_element(By.ID, \"chem\").clear()\n",
    "        searchBox = driver.find_element(By.ID, \"chem\")\n",
    "\n",
    "    searchBox.send_keys(chemical_name)\n",
    "    searchBox.send_keys(Keys.ENTER)"
   ]
  },
  {
   "cell_type": "code",
   "execution_count": null,
   "id": "b06a2314",
   "metadata": {},
   "outputs": [],
   "source": [
    "# Mark properties as empty when no results found\n",
    "\n",
    "def writeEmpty(writer, index, chemical_name):\n",
    "    writer.writerow([index, chemical_name, \"\", \"\", \"\", \"\", \"\", \"\", \"\", \"\"])"
   ]
  },
  {
   "cell_type": "code",
   "execution_count": null,
   "id": "549ad82e",
   "metadata": {},
   "outputs": [],
   "source": [
    "# Extract information from Supplier Page\n",
    "\n",
    "def extractSupplierPage(tds, driver, writer):\n",
    "    for row in driver.find_elements(By.TAG_NAME, 'tr'):\n",
    "        tds = row.find_elements(By.TAG_NAME, 'td')\n",
    "\n",
    "        # Get formula\n",
    "        if tds[0].text == \"Chemical Formula\":\n",
    "            formula = tds[1].text\n",
    "\n",
    "        # Get molecular weight\n",
    "        if tds[0].text == \"Molecular Weight\":\n",
    "            weight = tds[1].text\n",
    "            break\n",
    "        \n",
    "    writer.writerow([index, chemical_name, \"\", water_solubility, weight, density, formula, \"\", synonyms, \"\"])\n",
    "        \n",
    "    driver.get(\"https://www.chembk.com/en\")"
   ]
  },
  {
   "cell_type": "markdown",
   "id": "266ac547",
   "metadata": {},
   "source": [
    "## Main"
   ]
  },
  {
   "cell_type": "code",
   "execution_count": 20,
   "id": "ed0f614f",
   "metadata": {},
   "outputs": [
    {
     "name": "stderr",
     "output_type": "stream",
     "text": [
      "C:\\Users\\Becky\\AppData\\Local\\Temp\\ipykernel_3064\\1223384760.py:9: DeprecationWarning: executable_path has been deprecated, please pass in a Service object\n",
      "  driver = webdriver.Chrome(ChromeDriverManager().install(),options=options)\n"
     ]
    },
    {
     "ename": "TypeError",
     "evalue": "Cannot index by location index with a non-integer key",
     "output_type": "error",
     "traceback": [
      "\u001b[1;31m---------------------------------------------------------------------------\u001b[0m",
      "\u001b[1;31mTypeError\u001b[0m                                 Traceback (most recent call last)",
      "Input \u001b[1;32mIn [20]\u001b[0m, in \u001b[0;36m<module>\u001b[1;34m\u001b[0m\n\u001b[0;32m      8\u001b[0m     ingredients_df \u001b[38;5;241m=\u001b[39m pd\u001b[38;5;241m.\u001b[39mread_excel(\u001b[38;5;124m\"\u001b[39m\u001b[38;5;124mcosing_clean.xlsx\u001b[39m\u001b[38;5;124m\"\u001b[39m)\n\u001b[0;32m     10\u001b[0m     properties_df \u001b[38;5;241m=\u001b[39m get_properties(ingredients_df\u001b[38;5;241m.\u001b[39miloc[\u001b[38;5;241m0\u001b[39m:\u001b[38;5;241m3\u001b[39m])\n\u001b[1;32m---> 12\u001b[0m     functionalites_df \u001b[38;5;241m=\u001b[39m \u001b[43mget_functionalities\u001b[49m\u001b[43m(\u001b[49m\u001b[43mingredients_df\u001b[49m\u001b[38;5;241;43m.\u001b[39;49m\u001b[43miloc\u001b[49m\u001b[43m,\u001b[49m\u001b[43mfunctionality_file_name\u001b[49m\u001b[43m)\u001b[49m\n\u001b[0;32m     14\u001b[0m \u001b[38;5;66;03m#     properties_df.to_csv(\"All_wiki_properties.csv\")\u001b[39;00m\n\u001b[0;32m     15\u001b[0m     \n\u001b[0;32m     16\u001b[0m     \u001b[38;5;66;03m# Write properties to the final integrated file \"output_mmdd.csv\"\u001b[39;00m\n\u001b[0;32m     17\u001b[0m     properties_df\u001b[38;5;241m.\u001b[39mto_csv(\u001b[38;5;124m\"\u001b[39m\u001b[38;5;124m/output/output_1117.csv\u001b[39m\u001b[38;5;124m\"\u001b[39m)\n",
      "Input \u001b[1;32mIn [15]\u001b[0m, in \u001b[0;36mget_functionalities\u001b[1;34m(ingredients_df, functionality_file_name)\u001b[0m\n\u001b[0;32m      5\u001b[0m all_chem_func_dict \u001b[38;5;241m=\u001b[39m {}\n\u001b[0;32m      6\u001b[0m func_df \u001b[38;5;241m=\u001b[39m pd\u001b[38;5;241m.\u001b[39mread_csv(functionality_file_name)\n\u001b[1;32m----> 7\u001b[0m \u001b[38;5;28;01mfor\u001b[39;00m chemical \u001b[38;5;129;01min\u001b[39;00m \u001b[43mingredients_df\u001b[49m\u001b[43m[\u001b[49m\u001b[38;5;124;43m'\u001b[39;49m\u001b[38;5;124;43mChemical Name\u001b[39;49m\u001b[38;5;124;43m'\u001b[39;49m\u001b[43m]\u001b[49m:\n\u001b[0;32m      8\u001b[0m     all_chem_func_dict[chemical] \u001b[38;5;241m=\u001b[39m get_functionality(chemical,func_df)\n\u001b[0;32m      9\u001b[0m final_func_df \u001b[38;5;241m=\u001b[39m pd\u001b[38;5;241m.\u001b[39mDataFrame(all_chem_func_dict)\n",
      "File \u001b[1;32m~\\AppData\\Local\\Programs\\Python\\Python310\\lib\\site-packages\\pandas\\core\\indexing.py:931\u001b[0m, in \u001b[0;36m_LocationIndexer.__getitem__\u001b[1;34m(self, key)\u001b[0m\n\u001b[0;32m    928\u001b[0m axis \u001b[38;5;241m=\u001b[39m \u001b[38;5;28mself\u001b[39m\u001b[38;5;241m.\u001b[39maxis \u001b[38;5;129;01mor\u001b[39;00m \u001b[38;5;241m0\u001b[39m\n\u001b[0;32m    930\u001b[0m maybe_callable \u001b[38;5;241m=\u001b[39m com\u001b[38;5;241m.\u001b[39mapply_if_callable(key, \u001b[38;5;28mself\u001b[39m\u001b[38;5;241m.\u001b[39mobj)\n\u001b[1;32m--> 931\u001b[0m \u001b[38;5;28;01mreturn\u001b[39;00m \u001b[38;5;28;43mself\u001b[39;49m\u001b[38;5;241;43m.\u001b[39;49m\u001b[43m_getitem_axis\u001b[49m\u001b[43m(\u001b[49m\u001b[43mmaybe_callable\u001b[49m\u001b[43m,\u001b[49m\u001b[43m \u001b[49m\u001b[43maxis\u001b[49m\u001b[38;5;241;43m=\u001b[39;49m\u001b[43maxis\u001b[49m\u001b[43m)\u001b[49m\n",
      "File \u001b[1;32m~\\AppData\\Local\\Programs\\Python\\Python310\\lib\\site-packages\\pandas\\core\\indexing.py:1563\u001b[0m, in \u001b[0;36m_iLocIndexer._getitem_axis\u001b[1;34m(self, key, axis)\u001b[0m\n\u001b[0;32m   1561\u001b[0m key \u001b[38;5;241m=\u001b[39m item_from_zerodim(key)\n\u001b[0;32m   1562\u001b[0m \u001b[38;5;28;01mif\u001b[39;00m \u001b[38;5;129;01mnot\u001b[39;00m is_integer(key):\n\u001b[1;32m-> 1563\u001b[0m     \u001b[38;5;28;01mraise\u001b[39;00m \u001b[38;5;167;01mTypeError\u001b[39;00m(\u001b[38;5;124m\"\u001b[39m\u001b[38;5;124mCannot index by location index with a non-integer key\u001b[39m\u001b[38;5;124m\"\u001b[39m)\n\u001b[0;32m   1565\u001b[0m \u001b[38;5;66;03m# validate the location\u001b[39;00m\n\u001b[0;32m   1566\u001b[0m \u001b[38;5;28mself\u001b[39m\u001b[38;5;241m.\u001b[39m_validate_integer(key, axis)\n",
      "\u001b[1;31mTypeError\u001b[0m: Cannot index by location index with a non-integer key"
     ]
    }
   ],
   "source": [
    "# Main - Wikipedia\n",
    "if __name__ == '__main__':\n",
    "\n",
    "#     functionality_file_name = 'All_functionalities.csv'  #original\n",
    "    functionality_file_name = 'Wikipedia_AllFunctionalities.csv'\n",
    "    \n",
    "#     ingredients_df = pd.read_excel(\"cosing_clean (1).xlsx\") #original\n",
    "    ingredients_df = pd.read_excel(\"cosing_clean.xlsx\")\n",
    "    \n",
    "    properties_df = get_properties(ingredients_df.iloc[0:3])\n",
    "\n",
    "    functionalites_df = get_functionalities(ingredients_df.iloc,functionality_file_name)\n",
    "\n",
    "#     properties_df.to_csv(\"All_wiki_properties.csv\")\n",
    "    \n",
    "    # Write properties to the final integrated file \"output_mmdd.csv\"\n",
    "    properties_df.to_csv(\"/output/output_1117.csv\")\n",
    "    functionalites_df.to_csv(\"All_wiki_functionalities.csv\")"
   ]
  },
  {
   "cell_type": "code",
   "execution_count": null,
   "id": "bd4d43e6",
   "metadata": {},
   "outputs": [],
   "source": [
    "# Main - ChemBK\n",
    "if __name__ == '__main__':\n",
    "\n",
    "    with open('chembk_1117_all.csv', 'w', encoding = 'UTF8', newline=\"\") as f:\n",
    "        try:\n",
    "            header = ['id', 'Chemical Name', 'LogP (Partition coefficient)', 'LogS (water solubility of the ingredient)', \n",
    "                      'Molecular weight', 'Density', 'Chemical formula', 'Structure', 'Synonyms', 'Functionalities']\n",
    "            writer = csv.writer(f)\n",
    "            writer.writerow(header)\n",
    "\n",
    "            # Setup Selenium web driver\n",
    "            driver = setupDriver()\n",
    "\n",
    "            count_e = 0\n",
    "            for index, row in df.iterrows():\n",
    "                try:\n",
    "                    found = False\n",
    "\n",
    "                    # Use chemical name as search keyword\n",
    "                    # Remove slash in the string which cannot be put into search box\n",
    "                    chemical_name = row['Chemical Name'].title().replace(\"/\", \" \")\n",
    "\n",
    "                    # Initialization\n",
    "                    macthed_name = \"\"\n",
    "                    synonyms = \"\"\n",
    "                    formula = \"\"\n",
    "                    weight = \"\"\n",
    "                    density = \"\"\n",
    "                    water_solubility = \"\"\n",
    "\n",
    "                    # Search\n",
    "                    search(index, driver)\n",
    "\n",
    "                    # -- Choose which page to move on -- \n",
    "\n",
    "                    trs = driver.find_elements(By.TAG_NAME, 'tr')\n",
    "                    tds = driver.find_elements(By.TAG_NAME, 'td')\n",
    "\n",
    "                    # If no table -> No Results found\n",
    "                    if len(trs) == 0 or len(tds) == 0:   \n",
    "                        writeEmpty(writer, index, chemical_name)\n",
    "                        print(chemical_name + \" : no results found.\")\n",
    "                        continue\n",
    "\n",
    "                    # If exact name match found\n",
    "                    if len(driver.find_elements(By.XPATH, '//a[@href=\"/en/chem/'+chemical_name+'\"]')) == 1:\n",
    "                        matched_name = chemical_name\n",
    "                        nextPage = driver.find_element(By.XPATH, '//a[@href=\"/en/chem/'+chemical_name+'\"]')\n",
    "                        found = True\n",
    "                        print(chemical_name + \" : exact name found.\")\n",
    "\n",
    "                    # If no exact match, having multiple results:\n",
    "                    #    1. See if the search name matches one of the Synonyms\n",
    "                    if found == False:\n",
    "                        tbodys = driver.find_elements(By.TAG_NAME, 'tbody')\n",
    "                        trs = tbodys[0].find_elements(By.TAG_NAME, 'tr')\n",
    "                        for tr in trs:\n",
    "                            cols = tr.find_elements(By.TAG_NAME, 'td')\n",
    "                            if len(cols) >= 5:   # make sure it is data, not some random row with tds\n",
    "                                if chemical_name in cols[3].text:\n",
    "                                    nextPage = cols[2].find_element(By.TAG_NAME, 'a')\n",
    "                                    matched_name = cols[2].text\n",
    "                                    found = True\n",
    "                                    print(chemical_name + \" : have matched synonym.\")\n",
    "                                    break\n",
    "\n",
    "                    #    2. In the rest options, pick the first one with Molecular Formula shown\n",
    "                    if found == False:\n",
    "                        trs = driver.find_elements(By.TAG_NAME, 'tr')\n",
    "                        for tr in trs:\n",
    "                            cols = tr.find_elements(By.TAG_NAME, 'td')\n",
    "                            if len(cols) >= 5:   # make sure it is data, not some random row with tds\n",
    "                                if cols[4].text != \"\":\n",
    "                                    nextPage = cols[2].find_element(By.TAG_NAME, 'a')\n",
    "                                    matched_name = cols[2].text\n",
    "                                    found = True\n",
    "                                    print(chemical_name + \" : pick the first one with molecular.\")\n",
    "                                    break\n",
    "\n",
    "                    #    3. If no options showing Molecular Formula, pick the first one containing the chemical name as its substring of the results\n",
    "                    if found == False:\n",
    "                        if driver.find_elements(By.XPATH, '//a[contains(@href, \"%s\")]' % chemical_name):\n",
    "                            options = driver.find_elements(By.XPATH, '//a[contains(@href, \"%s\")]' % chemical_name)\n",
    "                            if len(options) > 1:\n",
    "                                matched_name = options[1].text\n",
    "                                nextPage = options[1]   # Skip option 0\n",
    "                                found = True\n",
    "                                print(chemical_name + \" : pick the first one containing the chemical name.\")\n",
    "                                break\n",
    "\n",
    "                    #  4. Pick the first one if no conditions matched.\n",
    "                    if found == False:\n",
    "                        tbodys = driver.find_elements(By.TAG_NAME, 'tbody')\n",
    "                        if len(tbodys) != 0:\n",
    "                            for tbody in tbodys:\n",
    "                                trs = tbody.find_elements(By.TAG_NAME, 'tr')\n",
    "                                if len(trs) != 0:                    \n",
    "                                    tds = trs[0].find_elements(By.TAG_NAME, 'td')\n",
    "                                    nextPage = tds[2].find_element(By.TAG_NAME, 'a')\n",
    "                                    matched_name = tds[2].text\n",
    "                                    print(chemical_name + \" : pick the first one.\")\n",
    "                                    break\n",
    "\n",
    "                    # If chemical found\n",
    "                    nextPage.click()\n",
    "\n",
    "                    # If the page found is a supplier page\n",
    "                    if len(driver.find_elements(By.TAG_NAME, 'h4')) > 0:\n",
    "                        if driver.find_elements(By.TAG_NAME, 'h4')[0].text == \"Request for quotation\":\n",
    "                            extractSupplierPage(tds, driver, writer)\n",
    "                            continue\n",
    "\n",
    "                    # Extract info from header paragraph\n",
    "                    formula = driver.find_elements(By.TAG_NAME, 'h4')[2].text.split(\":\")[1].strip()\n",
    "                    weight =  driver.find_elements(By.TAG_NAME, 'h4')[3].text.split(\":\")[1].strip()\n",
    "\n",
    "                    # Extract info from table\n",
    "                    for row in driver.find_elements(By.TAG_NAME, 'tr'):\n",
    "                        tds = row.find_elements(By.TAG_NAME, 'td')\n",
    "\n",
    "                        # Grab Synonyms\n",
    "                        if tds[0].text == \"Synonyms\":\n",
    "                            syns = tds[1].find_elements(By.TAG_NAME, 'a')\n",
    "                            for syn in syns:\n",
    "                                if len(syn.text.split(\",\")) > 1:\n",
    "                                    synonyms += syn.text + \",\"\n",
    "                                else:\n",
    "                                    synonyms += syn.text\n",
    "\n",
    "                        # Grab Density\n",
    "                        if tds[0].text == \"Density\":\n",
    "                            density = tds[1].text\n",
    "\n",
    "                        # Grab Water Solubility\n",
    "                        if tds[0].text == \"Water Solubility\":\n",
    "                            water_solubility = tds[1].text\n",
    "                            break   # exit earlier if all the properties have found\n",
    "\n",
    "                    writer.writerow([index, chemical_name, \"\", water_solubility, weight, density, formula, \"\", synonyms, \"\"])\n",
    "                except Exception as e:\n",
    "                    writer.writerow([index, chemical_name, \"\", \"\", \"\", \"\", \"\", \"\", \"\"])\n",
    "                    count_e += 1\n",
    "                    print(\"error\" + str(count_e) + \": \" + chemical_name + \" - \" + str(e))\n",
    "                    continue\n",
    "        except Exception as e:\n",
    "            print(e)"
   ]
  }
 ],
 "metadata": {
  "kernelspec": {
   "display_name": "Python 3 (ipykernel)",
   "language": "python",
   "name": "python3"
  },
  "language_info": {
   "codemirror_mode": {
    "name": "ipython",
    "version": 3
   },
   "file_extension": ".py",
   "mimetype": "text/x-python",
   "name": "python",
   "nbconvert_exporter": "python",
   "pygments_lexer": "ipython3",
   "version": "3.10.1"
  }
 },
 "nbformat": 4,
 "nbformat_minor": 5
}
